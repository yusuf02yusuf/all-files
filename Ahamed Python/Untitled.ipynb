{
 "cells": [
  {
   "cell_type": "code",
   "execution_count": 2,
   "id": "1ea7f71e",
   "metadata": {},
   "outputs": [],
   "source": [
    "#pip install bs4"
   ]
  },
  {
   "cell_type": "code",
   "execution_count": 3,
   "id": "9d252021",
   "metadata": {},
   "outputs": [],
   "source": [
    "#pip install request"
   ]
  },
  {
   "cell_type": "code",
   "execution_count": 7,
   "id": "c58adf8d",
   "metadata": {},
   "outputs": [],
   "source": [
    "#from bs4 import beautifulsoup"
   ]
  },
  {
   "cell_type": "code",
   "execution_count": 9,
   "id": "ffa8710a",
   "metadata": {},
   "outputs": [],
   "source": [
    "#import request"
   ]
  },
  {
   "cell_type": "code",
   "execution_count": 15,
   "id": "402bdfb0",
   "metadata": {},
   "outputs": [],
   "source": []
  },
  {
   "cell_type": "raw",
   "id": "14cd0cbd",
   "metadata": {},
   "source": []
  },
  {
   "cell_type": "code",
   "execution_count": null,
   "id": "358ea29e",
   "metadata": {},
   "outputs": [],
   "source": []
  }
 ],
 "metadata": {
  "kernelspec": {
   "display_name": "Python 3 (ipykernel)",
   "language": "python",
   "name": "python3"
  },
  "language_info": {
   "codemirror_mode": {
    "name": "ipython",
    "version": 3
   },
   "file_extension": ".py",
   "mimetype": "text/x-python",
   "name": "python",
   "nbconvert_exporter": "python",
   "pygments_lexer": "ipython3",
   "version": "3.9.7"
  }
 },
 "nbformat": 4,
 "nbformat_minor": 5
}
